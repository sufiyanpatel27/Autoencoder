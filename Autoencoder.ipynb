{
 "cells": [
  {
   "cell_type": "markdown",
   "metadata": {
    "id": "jj-RvR6JdNA3"
   },
   "source": [
    "# Autoencoders"
   ]
  },
  {
   "cell_type": "markdown",
   "metadata": {
    "id": "8e0tXRFJdUtl"
   },
   "source": [
    "**importing necessary libraries**"
   ]
  },
  {
   "cell_type": "code",
   "execution_count": null,
   "metadata": {
    "id": "kBOmJtexNaKA"
   },
   "outputs": [],
   "source": [
    "import keras\n",
    "import numpy as np\n",
    "from keras import layers\n",
    "import matplotlib.pyplot as plt\n",
    "from keras.datasets import mnist"
   ]
  },
  {
   "cell_type": "markdown",
   "metadata": {
    "id": "a6Zsl7pldZic"
   },
   "source": [
    "**loading and preprocessing the data**"
   ]
  },
  {
   "cell_type": "code",
   "execution_count": null,
   "metadata": {
    "id": "MxqceFdsdHd3"
   },
   "outputs": [],
   "source": [
    "(x_train, _), (x_test, _) = mnist.load_data()\n",
    "\n",
    "x_train = x_train.astype('float32') / 255.\n",
    "x_test = x_test.astype('float32') / 255.\n",
    "x_train = np.reshape(x_train, (len(x_train), 28, 28, 1))\n",
    "x_test = np.reshape(x_test, (len(x_test), 28, 28, 1))"
   ]
  },
  {
   "cell_type": "markdown",
   "metadata": {
    "id": "EjgKxVgIdgRs"
   },
   "source": [
    "### Adding Noise"
   ]
  },
  {
   "cell_type": "code",
   "execution_count": null,
   "metadata": {
    "id": "PFvFahNVNcZi"
   },
   "outputs": [],
   "source": [
    "noise_factor = 0.5\n",
    "x_train_noisy = x_train + noise_factor * np.random.normal(loc=0.0, scale=1.0, size=x_train.shape) \n",
    "x_test_noisy = x_test + noise_factor * np.random.normal(loc=0.0, scale=1.0, size=x_test.shape) \n",
    "\n",
    "x_train_noisy = np.clip(x_train_noisy, 0., 1.)\n",
    "x_test_noisy = np.clip(x_test_noisy, 0., 1.)"
   ]
  },
  {
   "cell_type": "code",
   "execution_count": null,
   "metadata": {
    "colab": {
     "base_uri": "https://localhost:8080/",
     "height": 110
    },
    "id": "gHjAFGuANdcw",
    "outputId": "a6f44067-5c5d-4ac1-c540-12f8246e0010"
   },
   "outputs": [
    {
     "data": {
      "image/png": "[encoded data removed]",
      "text/plain": [
       "<Figure size 1440x144 with 10 Axes>"
      ]
     },
     "metadata": {
      "needs_background": "light",
      "tags": []
     },
     "output_type": "display_data"
    }
   ],
   "source": [
    "n = 10\n",
    "plt.figure(figsize=(20, 2))\n",
    "for i in range(1, n + 1):\n",
    "    ax = plt.subplot(1, n, i)\n",
    "    plt.imshow(x_test_noisy[i].reshape(28, 28))\n",
    "    plt.gray()\n",
    "    ax.get_xaxis().set_visible(False)\n",
    "    ax.get_yaxis().set_visible(False)\n",
    "plt.show()"
   ]
  },
  {
   "cell_type": "markdown",
   "metadata": {
    "id": "JbiYY3Osdukc"
   },
   "source": [
    "### Building Network"
   ]
  },
  {
   "cell_type": "code",
   "execution_count": null,
   "metadata": {
    "id": "iMvPAHroNfSh"
   },
   "outputs": [],
   "source": [
    "input_img = keras.Input(shape=(28, 28, 1))\n",
    "\n",
    "#Encoder\n",
    "x = layers.Conv2D(32, (3, 3), activation='relu', padding='same')(input_img)\n",
    "x = layers.MaxPooling2D((2, 2), padding='same')(x)\n",
    "x = layers.Conv2D(32, (3, 3), activation='relu', padding='same')(x)\n",
    "encoded = layers.MaxPooling2D((2, 2), padding='same')(x)\n",
    "\n",
    "\n",
    "#Decoder\n",
    "x = layers.Conv2D(32, (3, 3), activation='relu', padding='same')(encoded)\n",
    "x = layers.UpSampling2D((2, 2))(x)\n",
    "x = layers.Conv2D(32, (3, 3), activation='relu', padding='same')(x)\n",
    "x = layers.UpSampling2D((2, 2))(x)\n",
    "decoded = layers.Conv2D(1, (3, 3), activation='sigmoid', padding='same')(x)"
   ]
  },
  {
   "cell_type": "code",
   "execution_count": null,
   "metadata": {
    "id": "lJb43JXsd_um"
   },
   "outputs": [],
   "source": [
    "autoencoder = keras.Model(input_img, decoded)\n",
    "autoencoder.compile(optimizer='adam', loss='binary_crossentropy')"
   ]
  },
  {
   "cell_type": "code",
   "execution_count": null,
   "metadata": {
    "colab": {
     "base_uri": "https://localhost:8080/"
    },
    "id": "LY9oupLYNl4R",
    "outputId": "a686e068-f8c3-4852-90c5-691f7a35ced2"
   },
   "outputs": [
    {
     "name": "stdout",
     "output_type": "stream",
     "text": [
      "Epoch 1/100\n",
      "469/469 [==============================] - 36s 8ms/step - loss: 0.2587 - val_loss: 0.1185\n",
      "Epoch 2/100\n",
      "469/469 [==============================] - 3s 7ms/step - loss: 0.1171 - val_loss: 0.1099\n",
      "Epoch 3/100\n",
      "469/469 [==============================] - 3s 7ms/step - loss: 0.1099 - val_loss: 0.1067\n",
      "Epoch 4/100\n",
      "469/469 [==============================] - 3s 7ms/step - loss: 0.1065 - val_loss: 0.1044\n",
      "Epoch 5/100\n",
      "469/469 [==============================] - 3s 7ms/step - loss: 0.1043 - val_loss: 0.1022\n",
      "Epoch 6/100\n",
      "469/469 [==============================] - 3s 7ms/step - loss: 0.1024 - val_loss: 0.1010\n",
      "Epoch 7/100\n",
      "469/469 [==============================] - 3s 7ms/step - loss: 0.1012 - val_loss: 0.0997\n",
      "Epoch 8/100\n",
      "469/469 [==============================] - 3s 7ms/step - loss: 0.1001 - val_loss: 0.0996\n",
      "Epoch 9/100\n",
      "469/469 [==============================] - 3s 7ms/step - loss: 0.0995 - val_loss: 0.0983\n",
      "Epoch 10/100\n",
      "469/469 [==============================] - 3s 7ms/step - loss: 0.0987 - val_loss: 0.0977\n",
      "Epoch 11/100\n",
      "469/469 [==============================] - 3s 7ms/step - loss: 0.0982 - val_loss: 0.0974\n",
      "Epoch 12/100\n",
      "469/469 [==============================] - 3s 7ms/step - loss: 0.0976 - val_loss: 0.0971\n",
      "Epoch 13/100\n",
      "469/469 [==============================] - 3s 7ms/step - loss: 0.0975 - val_loss: 0.0967\n",
      "Epoch 14/100\n",
      "469/469 [==============================] - 3s 7ms/step - loss: 0.0969 - val_loss: 0.0962\n",
      "Epoch 15/100\n",
      "469/469 [==============================] - 3s 7ms/step - loss: 0.0966 - val_loss: 0.0959\n",
      "Epoch 16/100\n",
      "469/469 [==============================] - 3s 7ms/step - loss: 0.0964 - val_loss: 0.0959\n",
      "Epoch 17/100\n",
      "469/469 [==============================] - 3s 7ms/step - loss: 0.0963 - val_loss: 0.0956\n",
      "Epoch 18/100\n",
      "469/469 [==============================] - 3s 7ms/step - loss: 0.0959 - val_loss: 0.0954\n",
      "Epoch 19/100\n",
      "469/469 [==============================] - 3s 7ms/step - loss: 0.0957 - val_loss: 0.0953\n",
      "Epoch 20/100\n",
      "469/469 [==============================] - 3s 7ms/step - loss: 0.0957 - val_loss: 0.0951\n",
      "Epoch 21/100\n",
      "469/469 [==============================] - 3s 7ms/step - loss: 0.0952 - val_loss: 0.0949\n",
      "Epoch 22/100\n",
      "469/469 [==============================] - 3s 7ms/step - loss: 0.0953 - val_loss: 0.0950\n",
      "Epoch 23/100\n",
      "469/469 [==============================] - 3s 7ms/step - loss: 0.0951 - val_loss: 0.0948\n",
      "Epoch 24/100\n",
      "469/469 [==============================] - 3s 7ms/step - loss: 0.0951 - val_loss: 0.0948\n",
      "Epoch 25/100\n",
      "469/469 [==============================] - 3s 7ms/step - loss: 0.0949 - val_loss: 0.0950\n",
      "Epoch 26/100\n",
      "469/469 [==============================] - 3s 7ms/step - loss: 0.0947 - val_loss: 0.0946\n",
      "Epoch 27/100\n",
      "469/469 [==============================] - 3s 7ms/step - loss: 0.0949 - val_loss: 0.0947\n",
      "Epoch 28/100\n",
      "469/469 [==============================] - 3s 7ms/step - loss: 0.0946 - val_loss: 0.0943\n",
      "Epoch 29/100\n",
      "469/469 [==============================] - 3s 7ms/step - loss: 0.0944 - val_loss: 0.0944\n",
      "Epoch 30/100\n",
      "469/469 [==============================] - 3s 7ms/step - loss: 0.0944 - val_loss: 0.0943\n",
      "Epoch 31/100\n",
      "469/469 [==============================] - 3s 7ms/step - loss: 0.0943 - val_loss: 0.0943\n",
      "Epoch 32/100\n",
      "469/469 [==============================] - 3s 7ms/step - loss: 0.0943 - val_loss: 0.0943\n",
      "Epoch 33/100\n",
      "469/469 [==============================] - 3s 7ms/step - loss: 0.0943 - val_loss: 0.0941\n",
      "Epoch 34/100\n",
      "469/469 [==============================] - 3s 7ms/step - loss: 0.0942 - val_loss: 0.0941\n",
      "Epoch 35/100\n",
      "469/469 [==============================] - 3s 7ms/step - loss: 0.0942 - val_loss: 0.0941\n",
      "Epoch 36/100\n",
      "469/469 [==============================] - 3s 7ms/step - loss: 0.0942 - val_loss: 0.0941\n",
      "Epoch 37/100\n",
      "469/469 [==============================] - 3s 7ms/step - loss: 0.0942 - val_loss: 0.0943\n",
      "Epoch 38/100\n",
      "469/469 [==============================] - 3s 7ms/step - loss: 0.0940 - val_loss: 0.0940\n",
      "Epoch 39/100\n",
      "469/469 [==============================] - 3s 7ms/step - loss: 0.0942 - val_loss: 0.0940\n",
      "Epoch 40/100\n",
      "469/469 [==============================] - 3s 7ms/step - loss: 0.0940 - val_loss: 0.0939\n",
      "Epoch 41/100\n",
      "469/469 [==============================] - 3s 7ms/step - loss: 0.0941 - val_loss: 0.0941\n",
      "Epoch 42/100\n",
      "469/469 [==============================] - 3s 7ms/step - loss: 0.0938 - val_loss: 0.0938\n",
      "Epoch 43/100\n",
      "469/469 [==============================] - 3s 7ms/step - loss: 0.0939 - val_loss: 0.0940\n",
      "Epoch 44/100\n",
      "469/469 [==============================] - 3s 7ms/step - loss: 0.0939 - val_loss: 0.0940\n",
      "Epoch 45/100\n",
      "469/469 [==============================] - 3s 7ms/step - loss: 0.0939 - val_loss: 0.0938\n",
      "Epoch 46/100\n",
      "469/469 [==============================] - 3s 7ms/step - loss: 0.0937 - val_loss: 0.0938\n",
      "Epoch 47/100\n",
      "469/469 [==============================] - 3s 7ms/step - loss: 0.0937 - val_loss: 0.0939\n",
      "Epoch 48/100\n",
      "469/469 [==============================] - 3s 7ms/step - loss: 0.0937 - val_loss: 0.0938\n",
      "Epoch 49/100\n",
      "469/469 [==============================] - 3s 7ms/step - loss: 0.0938 - val_loss: 0.0938\n",
      "Epoch 50/100\n",
      "469/469 [==============================] - 3s 7ms/step - loss: 0.0936 - val_loss: 0.0937\n",
      "Epoch 51/100\n",
      "469/469 [==============================] - 3s 7ms/step - loss: 0.0937 - val_loss: 0.0936\n",
      "Epoch 52/100\n",
      "469/469 [==============================] - 3s 7ms/step - loss: 0.0936 - val_loss: 0.0938\n",
      "Epoch 53/100\n",
      "469/469 [==============================] - 3s 7ms/step - loss: 0.0935 - val_loss: 0.0936\n",
      "Epoch 54/100\n",
      "469/469 [==============================] - 3s 7ms/step - loss: 0.0936 - val_loss: 0.0936\n",
      "Epoch 55/100\n",
      "469/469 [==============================] - 3s 7ms/step - loss: 0.0934 - val_loss: 0.0938\n",
      "Epoch 56/100\n",
      "469/469 [==============================] - 3s 7ms/step - loss: 0.0937 - val_loss: 0.0939\n",
      "Epoch 57/100\n",
      "469/469 [==============================] - 3s 7ms/step - loss: 0.0933 - val_loss: 0.0936\n",
      "Epoch 58/100\n",
      "469/469 [==============================] - 3s 7ms/step - loss: 0.0936 - val_loss: 0.0936\n",
      "Epoch 59/100\n",
      "469/469 [==============================] - 3s 7ms/step - loss: 0.0936 - val_loss: 0.0937\n",
      "Epoch 60/100\n",
      "469/469 [==============================] - 3s 7ms/step - loss: 0.0937 - val_loss: 0.0936\n",
      "Epoch 61/100\n",
      "469/469 [==============================] - 3s 7ms/step - loss: 0.0935 - val_loss: 0.0935\n",
      "Epoch 62/100\n",
      "469/469 [==============================] - 3s 7ms/step - loss: 0.0934 - val_loss: 0.0935\n",
      "Epoch 63/100\n",
      "469/469 [==============================] - 3s 7ms/step - loss: 0.0934 - val_loss: 0.0938\n",
      "Epoch 64/100\n",
      "469/469 [==============================] - 3s 7ms/step - loss: 0.0934 - val_loss: 0.0935\n",
      "Epoch 65/100\n",
      "469/469 [==============================] - 3s 7ms/step - loss: 0.0933 - val_loss: 0.0936\n",
      "Epoch 66/100\n",
      "469/469 [==============================] - 3s 7ms/step - loss: 0.0934 - val_loss: 0.0935\n",
      "Epoch 67/100\n",
      "469/469 [==============================] - 3s 7ms/step - loss: 0.0935 - val_loss: 0.0936\n",
      "Epoch 68/100\n",
      "469/469 [==============================] - 3s 7ms/step - loss: 0.0934 - val_loss: 0.0936\n",
      "Epoch 69/100\n",
      "469/469 [==============================] - 3s 7ms/step - loss: 0.0934 - val_loss: 0.0935\n",
      "Epoch 70/100\n",
      "469/469 [==============================] - 3s 7ms/step - loss: 0.0933 - val_loss: 0.0934\n",
      "Epoch 71/100\n",
      "469/469 [==============================] - 3s 7ms/step - loss: 0.0934 - val_loss: 0.0934\n",
      "Epoch 72/100\n",
      "469/469 [==============================] - 3s 7ms/step - loss: 0.0933 - val_loss: 0.0933\n",
      "Epoch 73/100\n",
      "469/469 [==============================] - 3s 7ms/step - loss: 0.0932 - val_loss: 0.0936\n",
      "Epoch 74/100\n",
      "469/469 [==============================] - 3s 7ms/step - loss: 0.0933 - val_loss: 0.0936\n",
      "Epoch 75/100\n",
      "469/469 [==============================] - 3s 7ms/step - loss: 0.0934 - val_loss: 0.0934\n",
      "Epoch 76/100\n",
      "469/469 [==============================] - 3s 7ms/step - loss: 0.0932 - val_loss: 0.0934\n",
      "Epoch 77/100\n",
      "469/469 [==============================] - 3s 7ms/step - loss: 0.0931 - val_loss: 0.0934\n",
      "Epoch 78/100\n",
      "469/469 [==============================] - 3s 7ms/step - loss: 0.0932 - val_loss: 0.0933\n",
      "Epoch 79/100\n",
      "469/469 [==============================] - 3s 7ms/step - loss: 0.0933 - val_loss: 0.0935\n",
      "Epoch 80/100\n",
      "469/469 [==============================] - 3s 7ms/step - loss: 0.0933 - val_loss: 0.0937\n",
      "Epoch 81/100\n",
      "469/469 [==============================] - 3s 7ms/step - loss: 0.0932 - val_loss: 0.0933\n",
      "Epoch 82/100\n",
      "469/469 [==============================] - 3s 7ms/step - loss: 0.0933 - val_loss: 0.0934\n",
      "Epoch 83/100\n",
      "469/469 [==============================] - 3s 7ms/step - loss: 0.0930 - val_loss: 0.0934\n",
      "Epoch 84/100\n",
      "469/469 [==============================] - 3s 7ms/step - loss: 0.0929 - val_loss: 0.0933\n",
      "Epoch 85/100\n",
      "469/469 [==============================] - 3s 7ms/step - loss: 0.0932 - val_loss: 0.0934\n",
      "Epoch 86/100\n",
      "469/469 [==============================] - 3s 7ms/step - loss: 0.0932 - val_loss: 0.0933\n",
      "Epoch 87/100\n",
      "469/469 [==============================] - 3s 7ms/step - loss: 0.0931 - val_loss: 0.0933\n",
      "Epoch 88/100\n",
      "469/469 [==============================] - 3s 7ms/step - loss: 0.0929 - val_loss: 0.0932\n",
      "Epoch 89/100\n",
      "469/469 [==============================] - 3s 7ms/step - loss: 0.0931 - val_loss: 0.0933\n",
      "Epoch 90/100\n",
      "469/469 [==============================] - 3s 7ms/step - loss: 0.0930 - val_loss: 0.0932\n",
      "Epoch 91/100\n",
      "469/469 [==============================] - 3s 7ms/step - loss: 0.0931 - val_loss: 0.0936\n",
      "Epoch 92/100\n",
      "469/469 [==============================] - 3s 7ms/step - loss: 0.0932 - val_loss: 0.0933\n",
      "Epoch 93/100\n",
      "469/469 [==============================] - 3s 7ms/step - loss: 0.0932 - val_loss: 0.0932\n",
      "Epoch 94/100\n",
      "469/469 [==============================] - 3s 7ms/step - loss: 0.0930 - val_loss: 0.0933\n",
      "Epoch 95/100\n",
      "469/469 [==============================] - 3s 7ms/step - loss: 0.0931 - val_loss: 0.0934\n",
      "Epoch 96/100\n",
      "469/469 [==============================] - 3s 7ms/step - loss: 0.0931 - val_loss: 0.0932\n",
      "Epoch 97/100\n",
      "469/469 [==============================] - 3s 7ms/step - loss: 0.0932 - val_loss: 0.0932\n",
      "Epoch 98/100\n",
      "469/469 [==============================] - 3s 7ms/step - loss: 0.0931 - val_loss: 0.0934\n",
      "Epoch 99/100\n",
      "469/469 [==============================] - 3s 7ms/step - loss: 0.0929 - val_loss: 0.0939\n",
      "Epoch 100/100\n",
      "469/469 [==============================] - 3s 7ms/step - loss: 0.0932 - val_loss: 0.0932\n"
     ]
    },
    {
     "data": {
      "text/plain": [
       "<tensorflow.python.keras.callbacks.History at 0x7f42261ca090>"
      ]
     },
     "execution_count": 9,
     "metadata": {
      "tags": []
     },
     "output_type": "execute_result"
    }
   ],
   "source": [
    "autoencoder.fit(x_train_noisy, x_train,\n",
    "                epochs=100,\n",
    "                batch_size=128,\n",
    "                shuffle=True,\n",
    "                validation_data=(x_test_noisy, x_test))"
   ]
  },
  {
   "cell_type": "markdown",
   "metadata": {
    "id": "4CWFhharehDU"
   },
   "source": [
    "### Final Output"
   ]
  },
  {
   "cell_type": "code",
   "execution_count": null,
   "metadata": {
    "colab": {
     "base_uri": "https://localhost:8080/",
     "height": 203
    },
    "id": "Yaio7egqPKOw",
    "outputId": "a6cdd433-dedd-49c2-e233-1ddc1af02841"
   },
   "outputs": [
    {
     "data": {
      "image/png": "[encoded data removed]",
      "text/plain": [
       "<Figure size 1440x144 with 10 Axes>"
      ]
     },
     "metadata": {
      "needs_background": "light",
      "tags": []
     },
     "output_type": "display_data"
    },
    {
     "data": {
      "image/png": "[encoded data removed]",
      "text/plain": [
       "<Figure size 1440x144 with 10 Axes>"
      ]
     },
     "metadata": {
      "needs_background": "light",
      "tags": []
     },
     "output_type": "display_data"
    }
   ],
   "source": [
    "n = 10\n",
    "plt.figure(figsize=(20, 2))\n",
    "for i in range(1, n + 1):\n",
    "    ax = plt.subplot(1, n, i)\n",
    "    plt.imshow(x_test_noisy[i].reshape(28, 28))\n",
    "    plt.gray()\n",
    "    ax.get_xaxis().set_visible(False)\n",
    "    ax.get_yaxis().set_visible(False)\n",
    "plt.show()\n",
    "\n",
    "\n",
    "plt.figure(figsize=(20, 2))\n",
    "for i in range(1, n + 1):\n",
    "    ax = plt.subplot(1, n, i)\n",
    "    a = autoencoder.predict(x_test_noisy[i].reshape(1,28, 28))\n",
    "    plt.imshow(a.reshape(28, 28))\n",
    "    plt.gray()\n",
    "    ax.get_xaxis().set_visible(False)\n",
    "    ax.get_yaxis().set_visible(False)\n",
    "plt.show()"
   ]
  }
 ],
 "metadata": {
  "accelerator": "GPU",
  "colab": {
   "collapsed_sections": [],
   "name": "Copy of images.ipynb",
   "provenance": [],
   "toc_visible": true
  },
  "kernelspec": {
   "display_name": "Python 3",
   "language": "python",
   "name": "python3"
  },
  "language_info": {
   "codemirror_mode": {
    "name": "ipython",
    "version": 3
   },
   "file_extension": ".py",
   "mimetype": "text/x-python",
   "name": "python",
   "nbconvert_exporter": "python",
   "pygments_lexer": "ipython3",
   "version": "3.8.3"
  }
 },
 "nbformat": 4,
 "nbformat_minor": 1
}
